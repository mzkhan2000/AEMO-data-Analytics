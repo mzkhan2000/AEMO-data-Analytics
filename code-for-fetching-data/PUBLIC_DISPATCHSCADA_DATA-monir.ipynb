{
 "cells": [
  {
   "cell_type": "code",
   "execution_count": 16,
   "metadata": {},
   "outputs": [],
   "source": [
    "# import necessary libraries - Monir\n",
    "import pandas as pd\n",
    "import os\n",
    "import glob\n",
    "import numpy as np"
   ]
  },
  {
   "cell_type": "code",
   "execution_count": 18,
   "metadata": {},
   "outputs": [],
   "source": [
    "# assign dataset names - Monir\n",
    "PUBLIC_DISPATCHSCADA_list_of_files = []\n",
    "\n",
    "#read all dataset names with starting PUBLIC_DISPATCHSCADA - Monir\n",
    "PUBLIC_DISPATCHSCADA_list_of_files = glob.glob('PUBLIC_DISPATCHSCADA*.csv')\n"
   ]
  },
  {
   "cell_type": "code",
   "execution_count": 19,
   "metadata": {},
   "outputs": [],
   "source": [
    "# create empty list\n",
    "dataframes_list = []\n",
    "\n",
    "list_of_names = PUBLIC_DISPATCHSCADA_list_of_files"
   ]
  },
  {
   "cell_type": "code",
   "execution_count": 20,
   "metadata": {},
   "outputs": [
    {
     "name": "stderr",
     "output_type": "stream",
     "text": [
      "<ipython-input-20-086463d0c93a>:3: ParserWarning: Falling back to the 'python' engine because the 'c' engine does not support skipfooter; you can avoid this warning by specifying engine='python'.\n",
      "  temp_df = pd.read_csv(list_of_names[i], skiprows = 1, skipfooter = 1)\n"
     ]
    }
   ],
   "source": [
    "# append datasets into teh list\n",
    "for i in range(len(list_of_names)):\n",
    "    temp_df = pd.read_csv(list_of_names[i], skiprows = 1, skipfooter = 1)\n",
    "    #dataframes_list[i]=temp_df\n",
    "    dataframes_list.append(temp_df)"
   ]
  },
  {
   "cell_type": "code",
   "execution_count": 23,
   "metadata": {},
   "outputs": [
    {
     "data": {
      "text/html": [
       "<div>\n",
       "<style scoped>\n",
       "    .dataframe tbody tr th:only-of-type {\n",
       "        vertical-align: middle;\n",
       "    }\n",
       "\n",
       "    .dataframe tbody tr th {\n",
       "        vertical-align: top;\n",
       "    }\n",
       "\n",
       "    .dataframe thead th {\n",
       "        text-align: right;\n",
       "    }\n",
       "</style>\n",
       "<table border=\"1\" class=\"dataframe\">\n",
       "  <thead>\n",
       "    <tr style=\"text-align: right;\">\n",
       "      <th></th>\n",
       "      <th>I</th>\n",
       "      <th>DISPATCH</th>\n",
       "      <th>UNIT_SCADA</th>\n",
       "      <th>1</th>\n",
       "      <th>SETTLEMENTDATE</th>\n",
       "      <th>DUID</th>\n",
       "      <th>SCADAVALUE</th>\n",
       "    </tr>\n",
       "  </thead>\n",
       "  <tbody>\n",
       "    <tr>\n",
       "      <th>0</th>\n",
       "      <td>D</td>\n",
       "      <td>DISPATCH</td>\n",
       "      <td>UNIT_SCADA</td>\n",
       "      <td>1</td>\n",
       "      <td>2021/04/29 00:05:00</td>\n",
       "      <td>BARCSF1</td>\n",
       "      <td>0.100000</td>\n",
       "    </tr>\n",
       "    <tr>\n",
       "      <th>1</th>\n",
       "      <td>D</td>\n",
       "      <td>DISPATCH</td>\n",
       "      <td>UNIT_SCADA</td>\n",
       "      <td>1</td>\n",
       "      <td>2021/04/29 00:05:00</td>\n",
       "      <td>BUTLERSG</td>\n",
       "      <td>-0.000002</td>\n",
       "    </tr>\n",
       "    <tr>\n",
       "      <th>2</th>\n",
       "      <td>D</td>\n",
       "      <td>DISPATCH</td>\n",
       "      <td>UNIT_SCADA</td>\n",
       "      <td>1</td>\n",
       "      <td>2021/04/29 00:05:00</td>\n",
       "      <td>CAPTL_WF</td>\n",
       "      <td>0.000000</td>\n",
       "    </tr>\n",
       "    <tr>\n",
       "      <th>3</th>\n",
       "      <td>D</td>\n",
       "      <td>DISPATCH</td>\n",
       "      <td>UNIT_SCADA</td>\n",
       "      <td>1</td>\n",
       "      <td>2021/04/29 00:05:00</td>\n",
       "      <td>CATHROCK</td>\n",
       "      <td>0.000000</td>\n",
       "    </tr>\n",
       "    <tr>\n",
       "      <th>4</th>\n",
       "      <td>D</td>\n",
       "      <td>DISPATCH</td>\n",
       "      <td>UNIT_SCADA</td>\n",
       "      <td>1</td>\n",
       "      <td>2021/04/29 00:05:00</td>\n",
       "      <td>CHALLHWF</td>\n",
       "      <td>0.000000</td>\n",
       "    </tr>\n",
       "  </tbody>\n",
       "</table>\n",
       "</div>"
      ],
      "text/plain": [
       "   I  DISPATCH  UNIT_SCADA  1       SETTLEMENTDATE      DUID  SCADAVALUE\n",
       "0  D  DISPATCH  UNIT_SCADA  1  2021/04/29 00:05:00   BARCSF1    0.100000\n",
       "1  D  DISPATCH  UNIT_SCADA  1  2021/04/29 00:05:00  BUTLERSG   -0.000002\n",
       "2  D  DISPATCH  UNIT_SCADA  1  2021/04/29 00:05:00  CAPTL_WF    0.000000\n",
       "3  D  DISPATCH  UNIT_SCADA  1  2021/04/29 00:05:00  CATHROCK    0.000000\n",
       "4  D  DISPATCH  UNIT_SCADA  1  2021/04/29 00:05:00  CHALLHWF    0.000000"
      ]
     },
     "execution_count": 23,
     "metadata": {},
     "output_type": "execute_result"
    }
   ],
   "source": [
    "dataframes_list[0].head()"
   ]
  },
  {
   "cell_type": "code",
   "execution_count": 24,
   "metadata": {},
   "outputs": [
    {
     "data": {
      "text/html": [
       "<div>\n",
       "<style scoped>\n",
       "    .dataframe tbody tr th:only-of-type {\n",
       "        vertical-align: middle;\n",
       "    }\n",
       "\n",
       "    .dataframe tbody tr th {\n",
       "        vertical-align: top;\n",
       "    }\n",
       "\n",
       "    .dataframe thead th {\n",
       "        text-align: right;\n",
       "    }\n",
       "</style>\n",
       "<table border=\"1\" class=\"dataframe\">\n",
       "  <thead>\n",
       "    <tr style=\"text-align: right;\">\n",
       "      <th></th>\n",
       "      <th>I</th>\n",
       "      <th>DISPATCH</th>\n",
       "      <th>UNIT_SCADA</th>\n",
       "      <th>1</th>\n",
       "      <th>SETTLEMENTDATE</th>\n",
       "      <th>DUID</th>\n",
       "      <th>SCADAVALUE</th>\n",
       "    </tr>\n",
       "  </thead>\n",
       "  <tbody>\n",
       "    <tr>\n",
       "      <th>369</th>\n",
       "      <td>D</td>\n",
       "      <td>DISPATCH</td>\n",
       "      <td>UNIT_SCADA</td>\n",
       "      <td>1</td>\n",
       "      <td>2021/04/29 00:05:00</td>\n",
       "      <td>YENDWF1</td>\n",
       "      <td>0.00000</td>\n",
       "    </tr>\n",
       "    <tr>\n",
       "      <th>370</th>\n",
       "      <td>D</td>\n",
       "      <td>DISPATCH</td>\n",
       "      <td>UNIT_SCADA</td>\n",
       "      <td>1</td>\n",
       "      <td>2021/04/29 00:05:00</td>\n",
       "      <td>YWPS1</td>\n",
       "      <td>321.05063</td>\n",
       "    </tr>\n",
       "    <tr>\n",
       "      <th>371</th>\n",
       "      <td>D</td>\n",
       "      <td>DISPATCH</td>\n",
       "      <td>UNIT_SCADA</td>\n",
       "      <td>1</td>\n",
       "      <td>2021/04/29 00:05:00</td>\n",
       "      <td>YWPS2</td>\n",
       "      <td>323.30634</td>\n",
       "    </tr>\n",
       "    <tr>\n",
       "      <th>372</th>\n",
       "      <td>D</td>\n",
       "      <td>DISPATCH</td>\n",
       "      <td>UNIT_SCADA</td>\n",
       "      <td>1</td>\n",
       "      <td>2021/04/29 00:05:00</td>\n",
       "      <td>YWPS3</td>\n",
       "      <td>391.56836</td>\n",
       "    </tr>\n",
       "    <tr>\n",
       "      <th>373</th>\n",
       "      <td>D</td>\n",
       "      <td>DISPATCH</td>\n",
       "      <td>UNIT_SCADA</td>\n",
       "      <td>1</td>\n",
       "      <td>2021/04/29 00:05:00</td>\n",
       "      <td>YWPS4</td>\n",
       "      <td>0.00000</td>\n",
       "    </tr>\n",
       "  </tbody>\n",
       "</table>\n",
       "</div>"
      ],
      "text/plain": [
       "     I  DISPATCH  UNIT_SCADA  1       SETTLEMENTDATE     DUID  SCADAVALUE\n",
       "369  D  DISPATCH  UNIT_SCADA  1  2021/04/29 00:05:00  YENDWF1     0.00000\n",
       "370  D  DISPATCH  UNIT_SCADA  1  2021/04/29 00:05:00    YWPS1   321.05063\n",
       "371  D  DISPATCH  UNIT_SCADA  1  2021/04/29 00:05:00    YWPS2   323.30634\n",
       "372  D  DISPATCH  UNIT_SCADA  1  2021/04/29 00:05:00    YWPS3   391.56836\n",
       "373  D  DISPATCH  UNIT_SCADA  1  2021/04/29 00:05:00    YWPS4     0.00000"
      ]
     },
     "execution_count": 24,
     "metadata": {},
     "output_type": "execute_result"
    }
   ],
   "source": [
    "dataframes_list[0].tail()"
   ]
  },
  {
   "cell_type": "code",
   "execution_count": 25,
   "metadata": {},
   "outputs": [
    {
     "data": {
      "text/plain": [
       "(374, 7)"
      ]
     },
     "execution_count": 25,
     "metadata": {},
     "output_type": "execute_result"
    }
   ],
   "source": [
    "dataframes_list[0].shape"
   ]
  },
  {
   "cell_type": "code",
   "execution_count": 27,
   "metadata": {},
   "outputs": [
    {
     "data": {
      "text/plain": [
       "8891"
      ]
     },
     "execution_count": 27,
     "metadata": {},
     "output_type": "execute_result"
    }
   ],
   "source": [
    "len(dataframes_list)"
   ]
  },
  {
   "cell_type": "code",
   "execution_count": 28,
   "metadata": {},
   "outputs": [
    {
     "data": {
      "text/html": [
       "<div>\n",
       "<style scoped>\n",
       "    .dataframe tbody tr th:only-of-type {\n",
       "        vertical-align: middle;\n",
       "    }\n",
       "\n",
       "    .dataframe tbody tr th {\n",
       "        vertical-align: top;\n",
       "    }\n",
       "\n",
       "    .dataframe thead th {\n",
       "        text-align: right;\n",
       "    }\n",
       "</style>\n",
       "<table border=\"1\" class=\"dataframe\">\n",
       "  <thead>\n",
       "    <tr style=\"text-align: right;\">\n",
       "      <th></th>\n",
       "      <th>I</th>\n",
       "      <th>DISPATCH</th>\n",
       "      <th>UNIT_SCADA</th>\n",
       "      <th>1</th>\n",
       "      <th>SETTLEMENTDATE</th>\n",
       "      <th>DUID</th>\n",
       "      <th>SCADAVALUE</th>\n",
       "    </tr>\n",
       "  </thead>\n",
       "  <tbody>\n",
       "    <tr>\n",
       "      <th>371</th>\n",
       "      <td>D</td>\n",
       "      <td>DISPATCH</td>\n",
       "      <td>UNIT_SCADA</td>\n",
       "      <td>1</td>\n",
       "      <td>2021/05/30 00:00:00</td>\n",
       "      <td>YENDWF1</td>\n",
       "      <td>16.54000</td>\n",
       "    </tr>\n",
       "    <tr>\n",
       "      <th>372</th>\n",
       "      <td>D</td>\n",
       "      <td>DISPATCH</td>\n",
       "      <td>UNIT_SCADA</td>\n",
       "      <td>1</td>\n",
       "      <td>2021/05/30 00:00:00</td>\n",
       "      <td>YWPS1</td>\n",
       "      <td>378.19495</td>\n",
       "    </tr>\n",
       "    <tr>\n",
       "      <th>373</th>\n",
       "      <td>D</td>\n",
       "      <td>DISPATCH</td>\n",
       "      <td>UNIT_SCADA</td>\n",
       "      <td>1</td>\n",
       "      <td>2021/05/30 00:00:00</td>\n",
       "      <td>YWPS2</td>\n",
       "      <td>0.00000</td>\n",
       "    </tr>\n",
       "    <tr>\n",
       "      <th>374</th>\n",
       "      <td>D</td>\n",
       "      <td>DISPATCH</td>\n",
       "      <td>UNIT_SCADA</td>\n",
       "      <td>1</td>\n",
       "      <td>2021/05/30 00:00:00</td>\n",
       "      <td>YWPS3</td>\n",
       "      <td>0.00000</td>\n",
       "    </tr>\n",
       "    <tr>\n",
       "      <th>375</th>\n",
       "      <td>D</td>\n",
       "      <td>DISPATCH</td>\n",
       "      <td>UNIT_SCADA</td>\n",
       "      <td>1</td>\n",
       "      <td>2021/05/30 00:00:00</td>\n",
       "      <td>YWPS4</td>\n",
       "      <td>390.15695</td>\n",
       "    </tr>\n",
       "  </tbody>\n",
       "</table>\n",
       "</div>"
      ],
      "text/plain": [
       "     I  DISPATCH  UNIT_SCADA  1       SETTLEMENTDATE     DUID  SCADAVALUE\n",
       "371  D  DISPATCH  UNIT_SCADA  1  2021/05/30 00:00:00  YENDWF1    16.54000\n",
       "372  D  DISPATCH  UNIT_SCADA  1  2021/05/30 00:00:00    YWPS1   378.19495\n",
       "373  D  DISPATCH  UNIT_SCADA  1  2021/05/30 00:00:00    YWPS2     0.00000\n",
       "374  D  DISPATCH  UNIT_SCADA  1  2021/05/30 00:00:00    YWPS3     0.00000\n",
       "375  D  DISPATCH  UNIT_SCADA  1  2021/05/30 00:00:00    YWPS4   390.15695"
      ]
     },
     "execution_count": 28,
     "metadata": {},
     "output_type": "execute_result"
    }
   ],
   "source": [
    "dataframes_list[8890].tail()"
   ]
  },
  {
   "cell_type": "code",
   "execution_count": 29,
   "metadata": {},
   "outputs": [],
   "source": [
    "# multiple DataFrames are be merged (Concatenate pandas objects) - Monir\n",
    "PUBLIC_DISPATCHSCADA_df = pd.concat(dataframes_list)"
   ]
  },
  {
   "cell_type": "code",
   "execution_count": 30,
   "metadata": {},
   "outputs": [
    {
     "data": {
      "text/plain": [
       "(3326960, 7)"
      ]
     },
     "execution_count": 30,
     "metadata": {},
     "output_type": "execute_result"
    }
   ],
   "source": [
    "PUBLIC_DISPATCHSCADA_df.shape"
   ]
  },
  {
   "cell_type": "code",
   "execution_count": 31,
   "metadata": {},
   "outputs": [
    {
     "data": {
      "text/html": [
       "<div>\n",
       "<style scoped>\n",
       "    .dataframe tbody tr th:only-of-type {\n",
       "        vertical-align: middle;\n",
       "    }\n",
       "\n",
       "    .dataframe tbody tr th {\n",
       "        vertical-align: top;\n",
       "    }\n",
       "\n",
       "    .dataframe thead th {\n",
       "        text-align: right;\n",
       "    }\n",
       "</style>\n",
       "<table border=\"1\" class=\"dataframe\">\n",
       "  <thead>\n",
       "    <tr style=\"text-align: right;\">\n",
       "      <th></th>\n",
       "      <th>I</th>\n",
       "      <th>DISPATCH</th>\n",
       "      <th>UNIT_SCADA</th>\n",
       "      <th>1</th>\n",
       "      <th>SETTLEMENTDATE</th>\n",
       "      <th>SCADAVALUE</th>\n",
       "    </tr>\n",
       "    <tr>\n",
       "      <th>DUID</th>\n",
       "      <th></th>\n",
       "      <th></th>\n",
       "      <th></th>\n",
       "      <th></th>\n",
       "      <th></th>\n",
       "      <th></th>\n",
       "    </tr>\n",
       "  </thead>\n",
       "  <tbody>\n",
       "    <tr>\n",
       "      <th>BARCSF1</th>\n",
       "      <td>D</td>\n",
       "      <td>DISPATCH</td>\n",
       "      <td>UNIT_SCADA</td>\n",
       "      <td>1</td>\n",
       "      <td>2021/04/29 00:05:00</td>\n",
       "      <td>0.100000</td>\n",
       "    </tr>\n",
       "    <tr>\n",
       "      <th>BUTLERSG</th>\n",
       "      <td>D</td>\n",
       "      <td>DISPATCH</td>\n",
       "      <td>UNIT_SCADA</td>\n",
       "      <td>1</td>\n",
       "      <td>2021/04/29 00:05:00</td>\n",
       "      <td>-0.000002</td>\n",
       "    </tr>\n",
       "    <tr>\n",
       "      <th>CAPTL_WF</th>\n",
       "      <td>D</td>\n",
       "      <td>DISPATCH</td>\n",
       "      <td>UNIT_SCADA</td>\n",
       "      <td>1</td>\n",
       "      <td>2021/04/29 00:05:00</td>\n",
       "      <td>0.000000</td>\n",
       "    </tr>\n",
       "    <tr>\n",
       "      <th>CATHROCK</th>\n",
       "      <td>D</td>\n",
       "      <td>DISPATCH</td>\n",
       "      <td>UNIT_SCADA</td>\n",
       "      <td>1</td>\n",
       "      <td>2021/04/29 00:05:00</td>\n",
       "      <td>0.000000</td>\n",
       "    </tr>\n",
       "    <tr>\n",
       "      <th>CHALLHWF</th>\n",
       "      <td>D</td>\n",
       "      <td>DISPATCH</td>\n",
       "      <td>UNIT_SCADA</td>\n",
       "      <td>1</td>\n",
       "      <td>2021/04/29 00:05:00</td>\n",
       "      <td>0.000000</td>\n",
       "    </tr>\n",
       "    <tr>\n",
       "      <th>...</th>\n",
       "      <td>...</td>\n",
       "      <td>...</td>\n",
       "      <td>...</td>\n",
       "      <td>...</td>\n",
       "      <td>...</td>\n",
       "      <td>...</td>\n",
       "    </tr>\n",
       "    <tr>\n",
       "      <th>YENDWF1</th>\n",
       "      <td>D</td>\n",
       "      <td>DISPATCH</td>\n",
       "      <td>UNIT_SCADA</td>\n",
       "      <td>1</td>\n",
       "      <td>2021/05/30 00:00:00</td>\n",
       "      <td>16.540000</td>\n",
       "    </tr>\n",
       "    <tr>\n",
       "      <th>YWPS1</th>\n",
       "      <td>D</td>\n",
       "      <td>DISPATCH</td>\n",
       "      <td>UNIT_SCADA</td>\n",
       "      <td>1</td>\n",
       "      <td>2021/05/30 00:00:00</td>\n",
       "      <td>378.194950</td>\n",
       "    </tr>\n",
       "    <tr>\n",
       "      <th>YWPS2</th>\n",
       "      <td>D</td>\n",
       "      <td>DISPATCH</td>\n",
       "      <td>UNIT_SCADA</td>\n",
       "      <td>1</td>\n",
       "      <td>2021/05/30 00:00:00</td>\n",
       "      <td>0.000000</td>\n",
       "    </tr>\n",
       "    <tr>\n",
       "      <th>YWPS3</th>\n",
       "      <td>D</td>\n",
       "      <td>DISPATCH</td>\n",
       "      <td>UNIT_SCADA</td>\n",
       "      <td>1</td>\n",
       "      <td>2021/05/30 00:00:00</td>\n",
       "      <td>0.000000</td>\n",
       "    </tr>\n",
       "    <tr>\n",
       "      <th>YWPS4</th>\n",
       "      <td>D</td>\n",
       "      <td>DISPATCH</td>\n",
       "      <td>UNIT_SCADA</td>\n",
       "      <td>1</td>\n",
       "      <td>2021/05/30 00:00:00</td>\n",
       "      <td>390.156950</td>\n",
       "    </tr>\n",
       "  </tbody>\n",
       "</table>\n",
       "<p>3326960 rows × 6 columns</p>\n",
       "</div>"
      ],
      "text/plain": [
       "          I  DISPATCH  UNIT_SCADA  1       SETTLEMENTDATE  SCADAVALUE\n",
       "DUID                                                                 \n",
       "BARCSF1   D  DISPATCH  UNIT_SCADA  1  2021/04/29 00:05:00    0.100000\n",
       "BUTLERSG  D  DISPATCH  UNIT_SCADA  1  2021/04/29 00:05:00   -0.000002\n",
       "CAPTL_WF  D  DISPATCH  UNIT_SCADA  1  2021/04/29 00:05:00    0.000000\n",
       "CATHROCK  D  DISPATCH  UNIT_SCADA  1  2021/04/29 00:05:00    0.000000\n",
       "CHALLHWF  D  DISPATCH  UNIT_SCADA  1  2021/04/29 00:05:00    0.000000\n",
       "...      ..       ...         ... ..                  ...         ...\n",
       "YENDWF1   D  DISPATCH  UNIT_SCADA  1  2021/05/30 00:00:00   16.540000\n",
       "YWPS1     D  DISPATCH  UNIT_SCADA  1  2021/05/30 00:00:00  378.194950\n",
       "YWPS2     D  DISPATCH  UNIT_SCADA  1  2021/05/30 00:00:00    0.000000\n",
       "YWPS3     D  DISPATCH  UNIT_SCADA  1  2021/05/30 00:00:00    0.000000\n",
       "YWPS4     D  DISPATCH  UNIT_SCADA  1  2021/05/30 00:00:00  390.156950\n",
       "\n",
       "[3326960 rows x 6 columns]"
      ]
     },
     "execution_count": 31,
     "metadata": {},
     "output_type": "execute_result"
    }
   ],
   "source": [
    "# set a specific column of DataFrame as index - Monir\n",
    "PUBLIC_DISPATCHSCADA_df.set_index('DUID')"
   ]
  },
  {
   "cell_type": "code",
   "execution_count": 32,
   "metadata": {},
   "outputs": [
    {
     "data": {
      "text/plain": [
       "I                  object\n",
       "DISPATCH           object\n",
       "UNIT_SCADA         object\n",
       "1                   int64\n",
       "SETTLEMENTDATE     object\n",
       "DUID               object\n",
       "SCADAVALUE        float64\n",
       "dtype: object"
      ]
     },
     "execution_count": 32,
     "metadata": {},
     "output_type": "execute_result"
    }
   ],
   "source": [
    "PUBLIC_DISPATCHSCADA_df.dtypes"
   ]
  },
  {
   "cell_type": "code",
   "execution_count": 33,
   "metadata": {},
   "outputs": [
    {
     "name": "stdout",
     "output_type": "stream",
     "text": [
      "<class 'pandas.core.frame.DataFrame'>\n",
      "Int64Index: 3326960 entries, 0 to 375\n",
      "Data columns (total 7 columns):\n",
      " #   Column          Dtype  \n",
      "---  ------          -----  \n",
      " 0   I               object \n",
      " 1   DISPATCH        object \n",
      " 2   UNIT_SCADA      object \n",
      " 3   1               int64  \n",
      " 4   SETTLEMENTDATE  object \n",
      " 5   DUID            object \n",
      " 6   SCADAVALUE      float64\n",
      "dtypes: float64(1), int64(1), object(5)\n",
      "memory usage: 203.1+ MB\n"
     ]
    }
   ],
   "source": [
    "PUBLIC_DISPATCHSCADA_df.info()"
   ]
  },
  {
   "cell_type": "code",
   "execution_count": 34,
   "metadata": {},
   "outputs": [],
   "source": [
    "# Export Pandas DataFrame to CSV - Monir\n",
    "PUBLIC_DISPATCHSCADA_df.to_csv('PUBLIC_DISPATCHSCADA_df.csv', index=False)"
   ]
  },
  {
   "cell_type": "code",
   "execution_count": null,
   "metadata": {},
   "outputs": [],
   "source": []
  }
 ],
 "metadata": {
  "kernelspec": {
   "display_name": "Python 3",
   "language": "python",
   "name": "python3"
  },
  "language_info": {
   "codemirror_mode": {
    "name": "ipython",
    "version": 3
   },
   "file_extension": ".py",
   "mimetype": "text/x-python",
   "name": "python",
   "nbconvert_exporter": "python",
   "pygments_lexer": "ipython3",
   "version": "3.8.5"
  }
 },
 "nbformat": 4,
 "nbformat_minor": 4
}
